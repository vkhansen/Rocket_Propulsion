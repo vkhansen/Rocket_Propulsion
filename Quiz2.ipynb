{
 "cells": [
  {
   "cell_type": "code",
   "execution_count": 14,
   "id": "1f81416c-30b2-44a6-b349-13e26da55efe",
   "metadata": {},
   "outputs": [
    {
     "ename": "SyntaxError",
     "evalue": "invalid syntax (3877545336.py, line 34)",
     "output_type": "error",
     "traceback": [
      "\u001b[1;36m  Cell \u001b[1;32mIn[14], line 34\u001b[1;36m\u001b[0m\n\u001b[1;33m    return math.sqrt(gamma *  * R * Tc * 2 / (gamma + 1))\u001b[0m\n\u001b[1;37m                              ^\u001b[0m\n\u001b[1;31mSyntaxError\u001b[0m\u001b[1;31m:\u001b[0m invalid syntax\n"
     ]
    }
   ],
   "source": [
    "import numpy as np\n",
    "import matplotlib.pyplot as plt\n",
    "from rocket_propulsion import *\n",
    "import math\n",
    "\n",
    "# Constants and Unit Conversions\n",
    "# SI Units\n",
    "g0_SI = 9.81  # m/s²\n",
    "R_SI = 8.314  # J/(mol·K)\n",
    "M_SI = 21  # g/mol, assuming a specific propellant\n",
    "R_SI /= (M_SI * 0.001)  # Convert to J/(kg·K)\n",
    "\n",
    "# Imperial Units\n",
    "g0_IMP = 32.2  # ft/s²\n",
    "R_IMP = 1545  # ft·lb/(lbm·R)\n",
    "M_IMP = M_SI / 453.592  # Convert g to lbm\n",
    "R_IMP /= M_IMP  # Adjust for molecular weight\n",
    "\n",
    "# Common constants\n",
    "Tc_IMP = 5000  # Rankine\n",
    "Tc_SI = Tc_IMP * 5 / 9  # Convert to Kelvin\n",
    "gamma = 1.2  # Specific heat ratio\n",
    "p1_IMP = 1000  # psia\n",
    "p2_IMP = 14.7  # psia (ambient pressure)\n",
    "p1_SI = p1_IMP * 6894.76  # Convert to Pa\n",
    "p2_SI = p2_IMP * 6894.76  # Convert to Pa\n",
    "\n",
    "# Key Functions\n",
    "def critical_pressure_ratio(gamma):\n",
    "    return (2 / (gamma + 1)) ** (gamma / (gamma - 1))\n",
    "\n",
    "def velocity_at_throat(Tc, R, gamma):\n",
    "    # Corrected formula for throat velocity (missing 'R' in original)\n",
    "    return math.sqrt(gamma * R * Tc * 2 / (gamma + 1))\n",
    "\n",
    "def nozzle_expansion_ratio(M_e, gamma):\n",
    "    term1 = (gamma + 1) / 2\n",
    "    term2 = (gamma - 1) / 2\n",
    "    return (1 / M_e) * (term1 ** (1 / term2)) * ((1 + term2 * M_e**2) ** (1 / term2))\n",
    "\n",
    "def exit_velocity(Tc, R, gamma, p0, pe):\n",
    "    pressure_ratio = pe / p0\n",
    "    return math.sqrt(2 * gamma / (gamma - 1) * R * Tc * (1 - pressure_ratio ** ((gamma - 1) / gamma)))\n",
    "\n",
    "# Calculations\n",
    "# SI Units\n",
    "M_e = 3.55  # Assumed exit Mach number\n",
    "p0_SI = p1_SI\n",
    "pe_SI = p2_SI\n",
    "\n",
    "critical_ratio_SI = critical_pressure_ratio(gamma)\n",
    "v_throat_SI = velocity_at_throat(Tc_SI, R_SI, gamma)\n",
    "expansion_ratio_SI = nozzle_expansion_ratio(M_e, gamma)\n",
    "v_exit_SI = exit_velocity(Tc_SI, R_SI, gamma, p0_SI, pe_SI)\n",
    "\n",
    "# Imperial Units\n",
    "p0_IMP = p1_IMP\n",
    "pe_IMP = p2_IMP\n",
    "\n",
    "critical_ratio_IMP = critical_pressure_ratio(gamma)\n",
    "v_throat_IMP = velocity_at_throat(Tc_IMP, R_IMP, gamma)\n",
    "expansion_ratio_IMP = nozzle_expansion_ratio(M_e, gamma)\n",
    "# Convert pressures to Pa for the calculation since the function expects SI units\n",
    "v_exit_IMP = exit_velocity(Tc_IMP, R_IMP, gamma, p0_IMP * 6894.76, pe_IMP * 6894.76)\n",
    "\n",
    "# Output Results\n",
    "print(\"SI Units:\")\n",
    "print(f\"Critical Pressure Ratio: {critical_ratio_SI:.3f}\")\n",
    "print(f\"Throat Velocity: {v_throat_SI:.2f} m/s\")\n",
    "print(f\"Expansion Area Ratio: {expansion_ratio_SI:.2f}\")\n",
    "print(f\"Exit Velocity: {v_exit_SI:.2f} m/s\")\n",
    "\n",
    "print(\"\\nImperial Units:\")\n",
    "print(f\"Critical Pressure Ratio: {critical_ratio_IMP:.3f}\")\n",
    "print(f\"Throat Velocity: {v_throat_IMP:.2f} ft/s\")\n",
    "print(f\"Expansion Area Ratio: {expansion_ratio_IMP:.2f}\")\n",
    "print(f\"Exit Velocity: {v_exit_IMP / 0.3048:.2f} ft/s\")  # Convert back to ft/s for display"
   ]
  },
  {
   "cell_type": "code",
   "execution_count": null,
   "id": "6d7699dd-eefe-4633-9586-3632a22b4797",
   "metadata": {},
   "outputs": [],
   "source": []
  }
 ],
 "metadata": {
  "kernelspec": {
   "display_name": "Python 3 (ipykernel)",
   "language": "python",
   "name": "python3"
  },
  "language_info": {
   "codemirror_mode": {
    "name": "ipython",
    "version": 3
   },
   "file_extension": ".py",
   "mimetype": "text/x-python",
   "name": "python",
   "nbconvert_exporter": "python",
   "pygments_lexer": "ipython3",
   "version": "3.11.9"
  }
 },
 "nbformat": 4,
 "nbformat_minor": 5
}
