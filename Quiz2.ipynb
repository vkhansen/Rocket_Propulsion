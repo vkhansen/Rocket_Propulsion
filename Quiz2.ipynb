{
 "cells": [
  {
   "cell_type": "code",
   "execution_count": 6,
   "id": "1f81416c-30b2-44a6-b349-13e26da55efe",
   "metadata": {},
   "outputs": [
    {
     "name": "stdout",
     "output_type": "stream",
     "text": [
      "Quiz 2: Sutton Chapter 3 Solutions\n",
      "==================================\n",
      "Thrust coefficient verification: calculated=1.420, given=1.420\n",
      "\n",
      "Question 1 Solutions:\n",
      "a) Chamber Pressure = 1.28 MPa\n",
      "b) Thrust = 36.55 kN\n",
      "c) Specific Impulse = 206.99 s\n",
      "\n",
      "Question 2 Solutions:\n",
      "a) Critical Pressure Ratio = 0.5283\n",
      "b) Choked Mass Flow Rate = 36.87 kg/s\n",
      "\n",
      "Alternative Choked Mass Flow Rate Calculation:\n",
      "Choked Mass Flow Rate (alternative) = 36.87 kg/s\n"
     ]
    }
   ],
   "source": [
    "import matplotlib.pyplot as plt\n",
    "import math\n",
    "import numpy as np\n",
    "from rocket_propulsion import (\n",
    "    characteristic_velocity,\n",
    "    thrust_coefficient,\n",
    "    thrust,\n",
    "    specific_impulse,\n",
    "    G_0\n",
    ")\n",
    "\n",
    "\n",
    "\n"
   ]
  },
  {
   "cell_type": "code",
   "execution_count": null,
   "id": "6d7699dd-eefe-4633-9586-3632a22b4797",
   "metadata": {},
   "outputs": [],
   "source": []
  },
  {
   "cell_type": "code",
   "execution_count": null,
   "id": "1c50dbd5-a2fa-4d4a-9a16-fd7fd3b9d618",
   "metadata": {},
   "outputs": [],
   "source": []
  }
 ],
 "metadata": {
  "kernelspec": {
   "display_name": "Python 3 (ipykernel)",
   "language": "python",
   "name": "python3"
  },
  "language_info": {
   "codemirror_mode": {
    "name": "ipython",
    "version": 3
   },
   "file_extension": ".py",
   "mimetype": "text/x-python",
   "name": "python",
   "nbconvert_exporter": "python",
   "pygments_lexer": "ipython3",
   "version": "3.11.9"
  }
 },
 "nbformat": 4,
 "nbformat_minor": 5
}
