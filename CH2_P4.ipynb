{
 "cells": [
  {
   "cell_type": "code",
   "execution_count": 1,
   "metadata": {
    "vscode": {
     "languageId": "plaintext"
    }
   },
   "outputs": [
    {
     "name": "stdout",
     "output_type": "stream",
     "text": [
      "(a) Effective Velocity: 2300.49 m/sec\n",
      "(b) Kinetic Jet Energy Rate per Unit Flow of Propellant: 2.646 MJ/kg\n",
      "(c) Internal Efficiency: 0.383 or 38.3%\n",
      "(d) Propulsive Efficiency: 0.3375 or 33.75%\n",
      "(e) Overall Efficiency: 0.1292 or 12.92%\n",
      "(f) Specific Impulse: 234.5 sec\n",
      "(g) Specific Propellant Consumption: 0.00426 sec^-1\n"
     ]
    }
   ],
   "source": [
    "import numpy as np\n",
    "\n"
   ]
  },
  {
   "cell_type": "code",
   "execution_count": null,
   "metadata": {},
   "outputs": [],
   "source": []
  }
 ],
 "metadata": {
  "kernelspec": {
   "display_name": "Python 3 (ipykernel)",
   "language": "python",
   "name": "python3"
  },
  "language_info": {
   "codemirror_mode": {
    "name": "ipython",
    "version": 3
   },
   "file_extension": ".py",
   "mimetype": "text/x-python",
   "name": "python",
   "nbconvert_exporter": "python",
   "pygments_lexer": "ipython3",
   "version": "3.11.9"
  }
 },
 "nbformat": 4,
 "nbformat_minor": 4
}
