{
 "cells": [
  {
   "cell_type": "code",
   "execution_count": 1,
   "metadata": {
    "vscode": {
     "languageId": "plaintext"
    }
   },
   "outputs": [
    {
     "name": "stdout",
     "output_type": "stream",
     "text": [
      "(a) Effective Velocity: 2300.49 m/sec\n",
      "(b) Kinetic Jet Energy Rate per Unit Flow of Propellant: 2.646 MJ/kg\n",
      "(c) Internal Efficiency: 0.383 or 38.3%\n",
      "(d) Propulsive Efficiency: 0.3375 or 33.75%\n",
      "(e) Overall Efficiency: 0.1292 or 12.92%\n",
      "(f) Specific Impulse: 234.5 sec\n",
      "(g) Specific Propellant Consumption: 0.00426 sec^-1\n"
     ]
    }
   ],
   "source": [
    "import numpy as np\n",
    "\n",
    "# Constants\n",
    "G_0 = 9.81  # m/s^2, gravitational acceleration at Earth's surface\n",
    "\n",
    "# Given data from the problem statement\n",
    "F = 8896  # N, Thrust\n",
    "m_dot = 3.867  # kg/sec, Propellant consumption rate\n",
    "u = 400  # m/sec, Velocity of vehicle\n",
    "Q_R = 6.911e6  # J/kg, Energy content of propellant\n",
    "eta_comb = 1.0  # Combustion efficiency\n",
    "\n",
    "# Functions from the document (only relevant ones for this problem)\n",
    "\n",
    "def exhaust_velocity(I_sp, g_0=G_0):\n",
    "    return I_sp * g_0\n",
    "\n",
    "def specific_impulse(v_e, g_0=G_0):\n",
    "    return v_e / g_0\n",
    "\n",
    "# Solution to Problem 1\n",
    "\n",
    "# (a) Effective Velocity\n",
    "c = F / m_dot\n",
    "print(f\"(a) Effective Velocity: {c:.2f} m/sec\")\n",
    "\n",
    "# (b) Kinetic Jet Energy Rate per Unit Flow of Propellant\n",
    "E_k = 0.5 * c**2 / 1e6  # Convert to MJ/kg\n",
    "print(f\"(b) Kinetic Jet Energy Rate per Unit Flow of Propellant: {E_k:.3f} MJ/kg\")\n",
    "\n",
    "# (c) Internal Efficiency\n",
    "eta_i = (0.5 * m_dot * c**2) / (m_dot * Q_R * eta_comb)\n",
    "print(f\"(c) Internal Efficiency: {eta_i:.3f} or {eta_i*100:.1f}%\")\n",
    "\n",
    "# (d) Propulsive Efficiency\n",
    "eta_p = (2 * u / c) / (1 + (u / c)**2)\n",
    "print(f\"(d) Propulsive Efficiency: {eta_p:.4f} or {eta_p*100:.2f}%\")\n",
    "\n",
    "# (e) Overall Efficiency\n",
    "eta = eta_i * eta_p\n",
    "print(f\"(e) Overall Efficiency: {eta:.4f} or {eta*100:.2f}%\")\n",
    "\n",
    "# (f) Specific Impulse\n",
    "I_s = F / (m_dot * G_0)\n",
    "print(f\"(f) Specific Impulse: {I_s:.1f} sec\")\n",
    "\n",
    "# (g) Specific Propellant Consumption\n",
    "SFC = 1 / I_s\n",
    "print(f\"(g) Specific Propellant Consumption: {SFC:.5f} sec^-1\")"
   ]
  },
  {
   "cell_type": "code",
   "execution_count": null,
   "metadata": {},
   "outputs": [],
   "source": []
  }
 ],
 "metadata": {
  "kernelspec": {
   "display_name": "Python 3 (ipykernel)",
   "language": "python",
   "name": "python3"
  },
  "language_info": {
   "codemirror_mode": {
    "name": "ipython",
    "version": 3
   },
   "file_extension": ".py",
   "mimetype": "text/x-python",
   "name": "python",
   "nbconvert_exporter": "python",
   "pygments_lexer": "ipython3",
   "version": "3.11.9"
  }
 },
 "nbformat": 4,
 "nbformat_minor": 4
}
