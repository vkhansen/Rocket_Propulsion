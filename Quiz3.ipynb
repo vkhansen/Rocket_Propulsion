{
 "cells": [
  {
   "cell_type": "code",
   "execution_count": 10,
   "id": "d1227cc5-f4c7-4d3e-b14a-4ae5f18c5e3d",
   "metadata": {},
   "outputs": [
    {
     "name": "stdout",
     "output_type": "stream",
     "text": [
      "Reference area, A = 0.0804 m^2\n",
      "Drag deceleration, a = 176.73 m/s^2\n",
      "Drag deceleration in multiples of g = 18.02 g\n",
      "For Δu = 1600 m/s:\n",
      "  Mass ratio (final/initial) = 0.529\n",
      "  Propellant mass = 1648 kg\n",
      "\n",
      "For Δu = 3400 m/s:\n",
      "  Mass ratio (final/initial) = 0.234\n",
      "  Propellant mass = 2683 kg\n"
     ]
    }
   ],
   "source": [
    "import numpy as np\n",
    "\n",
    "# Given values for Q1\n",
    "m0 = 45            # mass in kg\n",
    "d = 0.32           # diameter in m\n",
    "u = 1200            # velocity in m/s\n",
    "rho = 0.763        # air density in kg/m^3 at 5000m\n",
    "CD = 0.18          # drag coefficient (from figure for M ~ 3.75)\n",
    "\n",
    "# Calculate reference area A\n",
    "A = np.pi * (d / 2)**2\n",
    "\n",
    "# Calculate drag deceleration\n",
    "a_drag = 0.5 * CD * rho * u**2 * A / m0\n",
    "\n",
    "# Calculate deceleration in multiples of g\n",
    "g = 9.81  # gravitational acceleration in m/s^2\n",
    "a_in_g = a_drag / g\n",
    "\n",
    "print(f\"Reference area, A = {A:.4f} m^2\")\n",
    "print(f\"Drag deceleration, a = {a_drag:.2f} m/s^2\")\n",
    "print(f\"Drag deceleration in multiples of g = {a_in_g:.2f} g\")\n",
    "\n",
    "\n",
    "# Given values for Q2\n",
    "m0_total = 3500   # initial total mass in kg\n",
    "c = 2200          # effective exhaust velocity in m/s\n",
    "\n",
    "# (a) For delta u = 1600 m/s\n",
    "delta_u1 = 1400\n",
    "MR1 = np.exp(-delta_u1 / c)  # final-to-initial mass ratio\n",
    "propellant_mass1 = m0_total * (1 - MR1)\n",
    "\n",
    "# (b) For delta u = 3400 m/s\n",
    "delta_u2 = 3200\n",
    "MR2 = np.exp(-delta_u2 / c)\n",
    "propellant_mass2 = m0_total * (1 - MR2)\n",
    "\n",
    "print(\"For Δu = 1600 m/s:\")\n",
    "print(f\"  Mass ratio (final/initial) = {MR1:.3f}\")\n",
    "print(f\"  Propellant mass = {propellant_mass1:.0f} kg\")\n",
    "\n",
    "print(\"\\nFor Δu = 3400 m/s:\")\n",
    "print(f\"  Mass ratio (final/initial) = {MR2:.3f}\")\n",
    "print(f\"  Propellant mass = {propellant_mass2:.0f} kg\")"
   ]
  },
  {
   "cell_type": "code",
   "execution_count": null,
   "id": "199f70f8-fb38-4249-a652-6d4f105a1b4e",
   "metadata": {},
   "outputs": [],
   "source": []
  }
 ],
 "metadata": {
  "kernelspec": {
   "display_name": "Python 3 (ipykernel)",
   "language": "python",
   "name": "python3"
  },
  "language_info": {
   "codemirror_mode": {
    "name": "ipython",
    "version": 3
   },
   "file_extension": ".py",
   "mimetype": "text/x-python",
   "name": "python",
   "nbconvert_exporter": "python",
   "pygments_lexer": "ipython3",
   "version": "3.11.9"
  }
 },
 "nbformat": 4,
 "nbformat_minor": 5
}
