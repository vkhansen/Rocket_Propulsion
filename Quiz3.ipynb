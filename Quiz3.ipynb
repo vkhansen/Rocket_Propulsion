{
 "cells": [
  {
   "cell_type": "markdown",
   "id": "03f19042-4b4d-4303-bdc5-d5ad70a9e0d7",
   "metadata": {},
   "source": [
    "# Rocket Propulsion Course: Quiz 3 Solutions\n",
    "\n",
    "This notebook implements the two problems from Sutton Chapter 4 as described in the quiz document.\n",
    "\n",
    "## Problem 1: Rocket Deceleration Due to Gravity and Drag\n",
    "\n",
    "A sounding rocket with a mass of 75 kg and a diameter of 0.25 m is moving vertically upward at an altitude of 5000 m with a velocity of 700 m/s. The air properties at 5 km are given by:\n",
    "\n",
    "- Pressure, \\(p = 54\\,\\text{kPa}\\)\n",
    "- Density, \\(\\rho = 0.763\\,\\text{kg/m}^3\\)\n",
    "- Temperature, \\(T = 256\\,\\text{K}\\)\n",
    "\n",
    "The Mach number is estimated to be approximately 2.184, and from Fig. 4-4 the drag coefficient \\(C_D \\approx 0.24\\) at 0° angle of attack. The drag deceleration is calculated by:\n",
    "\n",
    "\\[\n",
    "a = \\frac{1}{2}\\frac{C_D\\,\\rho\\,u^2\\,A}{m_0},\n",
    "\\]\n",
    "\n",
    "where the reference area \\(A = \\pi\\left(\\frac{d}{2}\\right)^2\\).\n",
    "\n",
    "The deceleration is then expressed in multiples of \\(g\\) (with \\(g \\approx 9.81\\,\\text{m/s}^2\\))."
   ]
  },
  {
   "cell_type": "code",
   "execution_count": 5,
   "id": "d1227cc5-f4c7-4d3e-b14a-4ae5f18c5e3d",
   "metadata": {},
   "outputs": [
    {
     "name": "stdout",
     "output_type": "stream",
     "text": [
      "Reference area, A = 0.0804 m^2\n",
      "Drag deceleration, a = 176.73 m/s^2\n",
      "Drag deceleration in multiples of g = 18.02 g\n"
     ]
    }
   ],
   "source": [
    "import numpy as np\n",
    "\n",
    "# Given values for Q1\n",
    "m0 = 45            # mass in kg\n",
    "d = 0.32           # diameter in m\n",
    "u = 1200            # velocity in m/s\n",
    "rho = 0.763        # air density in kg/m^3 at 5000m\n",
    "CD = 0.18          # drag coefficient (from figure for M ~ 3.75)\n",
    "\n",
    "# Calculate reference area A\n",
    "A = np.pi * (d / 2)**2\n",
    "\n",
    "# Calculate drag deceleration\n",
    "a_drag = 0.5 * CD * rho * u**2 * A / m0\n",
    "\n",
    "# Calculate deceleration in multiples of g\n",
    "g = 9.81  # gravitational acceleration in m/s^2\n",
    "a_in_g = a_drag / g\n",
    "\n",
    "print(f\"Reference area, A = {A:.4f} m^2\")\n",
    "print(f\"Drag deceleration, a = {a_drag:.2f} m/s^2\")\n",
    "print(f\"Drag deceleration in multiples of g = {a_in_g:.2f} g\")"
   ]
  },
  {
   "cell_type": "markdown",
   "id": "2f7d3e4f-3d35-41a1-a13d-6e1d1cdd9c4f",
   "metadata": {},
   "source": [
    "## Problem 2: Mass Ratio and Propellant Mass Calculation\n",
    "\n",
    "For a vehicle in gravitationless space, the rocket equation is given by:\n",
    "\n",
    "\\[\n",
    "MR = \\exp\\left(-\\frac{\\Delta u}{c}\\right),\n",
    "\\]\n",
    "\n",
    "where \\(MR\\) is the final-to-initial mass ratio and \\(c\\) is the effective exhaust velocity. The propellant mass is then:\n",
    "\n",
    "\\[\n",
    "m_p = m_0 \\left(1 - MR\\right).\n",
    "\\]\n",
    "\n",
    "### (a) For \\(\\Delta u = 1600\\,\\text{m/s}\\) with \\(c = 2000\\,\\text{m/s}\\) and an initial mass \\(m_0 = 4000\\,\\text{kg}\\):\n",
    "\n",
    "### (b) For \\(\\Delta u = 3400\\,\\text{m/s}\\) with the same \\(c\\) and \\(m_0\\).\n",
    "\n",
    "Compute the mass ratio and the corresponding propellant masses for both cases."
   ]
  },
  {
   "cell_type": "code",
   "execution_count": 6,
   "id": "e3cbf16c-2c14-4264-a8a5-76fdb76f1c2e",
   "metadata": {},
   "outputs": [
    {
     "name": "stdout",
     "output_type": "stream",
     "text": [
      "For Δu = 1600 m/s:\n",
      "  Mass ratio (final/initial) = 0.529\n",
      "  Propellant mass = 1648 kg\n",
      "\n",
      "For Δu = 3400 m/s:\n",
      "  Mass ratio (final/initial) = 0.234\n",
      "  Propellant mass = 2683 kg\n"
     ]
    }
   ],
   "source": [
    "import numpy as np\n",
    "\n",
    "# Given values for Q2\n",
    "m0_total = 3500   # initial total mass in kg\n",
    "c = 2200          # effective exhaust velocity in m/s\n",
    "\n",
    "# (a) For delta u = 1600 m/s\n",
    "delta_u1 = 1400\n",
    "MR1 = np.exp(-delta_u1 / c)  # final-to-initial mass ratio\n",
    "propellant_mass1 = m0_total * (1 - MR1)\n",
    "\n",
    "# (b) For delta u = 3400 m/s\n",
    "delta_u2 = 3200\n",
    "MR2 = np.exp(-delta_u2 / c)\n",
    "propellant_mass2 = m0_total * (1 - MR2)\n",
    "\n",
    "print(\"For Δu = 1600 m/s:\")\n",
    "print(f\"  Mass ratio (final/initial) = {MR1:.3f}\")\n",
    "print(f\"  Propellant mass = {propellant_mass1:.0f} kg\")\n",
    "\n",
    "print(\"\\nFor Δu = 3400 m/s:\")\n",
    "print(f\"  Mass ratio (final/initial) = {MR2:.3f}\")\n",
    "print(f\"  Propellant mass = {propellant_mass2:.0f} kg\")"
   ]
  },
  {
   "cell_type": "markdown",
   "id": "aebc411e-bb4c-42a0-9d6b-9975d4080fc1",
   "metadata": {},
   "source": [
    "### Summary of Answers\n",
    "\n",
    "- **Q1:** The drag deceleration is approximately **2.99 g**.\n",
    "- **Q2 (a):** For a \\(\\Delta u = 1600\\,\\text{m/s}\\), the mass ratio is approximately **0.449** and the propellant mass is **2200 kg**.\n",
    "- **Q2 (b):** For a \\(\\Delta u = 3400\\,\\text{m/s}\\), the mass ratio is approximately **0.183** and the propellant mass is **3270 kg**."
   ]
  }
 ],
 "metadata": {
  "kernelspec": {
   "display_name": "Python 3 (ipykernel)",
   "language": "python",
   "name": "python3"
  },
  "language_info": {
   "codemirror_mode": {
    "name": "ipython",
    "version": 3
   },
   "file_extension": ".py",
   "mimetype": "text/x-python",
   "name": "python",
   "nbconvert_exporter": "python",
   "pygments_lexer": "ipython3",
   "version": "3.11.9"
  }
 },
 "nbformat": 4,
 "nbformat_minor": 5
}
