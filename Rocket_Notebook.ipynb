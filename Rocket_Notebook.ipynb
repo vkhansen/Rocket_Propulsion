{
 "cells": [
  {
   "cell_type": "code",
   "execution_count": null,
   "id": "f06c471a-ec16-433c-89e4-ae0825bef89d",
   "metadata": {},
   "outputs": [],
   "source": [
    "import numpy as np\n",
    "import matplotlib.pyplot as plt\n",
    "from rocket_propulsion import *\n",
    "\n",
    "# Example 1: Calculate Thrust\n",
    "m_dot = 10.0  # Mass flow rate (kg/s)\n",
    "v_e = 3000.0  # Effective exhaust velocity (m/s)\n",
    "p_e = 101325.0  # Exit pressure (Pa)\n",
    "p_0 = 101325.0  # Ambient pressure (Pa)\n",
    "A_e = 0.1  # Nozzle exit area (m^2)\n",
    "\n",
    "thrust_value = thrust(m_dot, v_e, p_e, p_0, A_e)\n",
    "print(f\"Thrust: {thrust_value} N\")\n",
    "\n",
    "# Example 2: Calculate Delta-V\n",
    "m_0 = 500.0  # Initial mass (kg)\n",
    "m_f = 300.0  # Final mass (kg)\n",
    "\n",
    "delta_v_value = delta_v(v_e, m_0, m_f)\n",
    "print(f\"Delta-V: {delta_v_value} m/s\")\n",
    "\n",
    "# Example 3: Plot Specific Impulse vs. Exhaust Velocity\n",
    "exhaust_velocities = np.linspace(2000, 4000, 100)\n",
    "specific_impulses = [specific_impulse(thrust_value, m_dot, G_0) for v_e in exhaust_velocities]\n",
    "\n",
    "plt.figure()\n",
    "plt.plot(exhaust_velocities, specific_impulses)\n",
    "plt.xlabel('Exhaust Velocity (m/s)')\n",
    "plt.ylabel('Specific Impulse (s)')\n",
    "plt.title('Specific Impulse vs. Exhaust Velocity')\n",
    "plt.grid()\n",
    "plt.show()\n",
    "\n",
    "# Example 4: Nozzle Area Ratio Calculation\n",
    "A_t = 0.02  # Throat area (m^2)\n",
    "M_e = 3.0  # Mach number at exit\n",
    "gamma = 1.4  # Specific heat ratio\n",
    "\n",
    "nozzle_area_ratio_value = nozzle_area_ratio(A_e, A_t, gamma, M_e)\n",
    "print(f\"Nozzle Area Ratio: {nozzle_area_ratio_value}\")\n",
    "\n",
    "# Example 5: Thermal Efficiency\n",
    "T_e = 1200.0  # Exhaust gas temperature (K)\n",
    "T_c = 3000.0  # Combustion chamber temperature (K)\n",
    "\n",
    "thermal_efficiency_value = thermal_efficiency(T_e, T_c)\n",
    "print(f\"Thermal Efficiency: {thermal_efficiency_value:.2f}\")\n",
    "\n",
    "# Example 6: Total Impulse\n",
    "burn_time = 50.0  # Burn time (s)\n",
    "\n",
    "total_impulse_value = total_impulse(thrust_value, burn_time)\n",
    "print(f\"Total Impulse: {total_impulse_value} N·s\")\n"
   ]
  }
 ],
 "metadata": {
  "kernelspec": {
   "display_name": "Python 3 (ipykernel)",
   "language": "python",
   "name": "python3"
  },
  "language_info": {
   "codemirror_mode": {
    "name": "ipython",
    "version": 3
   },
   "file_extension": ".py",
   "mimetype": "text/x-python",
   "name": "python",
   "nbconvert_exporter": "python",
   "pygments_lexer": "ipython3",
   "version": "3.11.9"
  }
 },
 "nbformat": 4,
 "nbformat_minor": 5
}
