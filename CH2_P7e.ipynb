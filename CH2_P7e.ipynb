{
 "cells": [
  {
   "cell_type": "code",
   "execution_count": 3,
   "metadata": {
    "vscode": {
     "languageId": "plaintext"
    }
   },
   "outputs": [
    {
     "name": "stdout",
     "output_type": "stream",
     "text": [
      "Propellant Mass Flow Rate (m_dot): 900.0 lbm/s\n",
      "Sea-Level Specific Impulse (I_s): 230.0 s\n",
      "Thrust at Optimum Expansion (F_opt): 216900.2 lbf\n",
      "Specific Impulse at Optimum Expansion (I_s_opt): 7.5 s\n",
      "Vacuum Thrust (F_vac): 231130.8 lbf\n",
      "Vacuum Specific Impulse (I_s_vac): 8.0 s\n"
     ]
    }
   ],
   "source": [
    "# Constants and given values\n",
    "F_t = 207000  # lbf, sea-level thrust\n",
    "t_b = 50  # s, burn time\n",
    "m_p = 45000  # lbm, usable propellant mass\n",
    "m_0 = 50000  # lbm, initial total mass of the rocket motor\n",
    "k = 1.25  # ratio of specific heats\n",
    "p_c = 780  # psia, chamber pressure\n",
    "A_t = 164.2  # in², nozzle throat area\n",
    "A_e = 1642  # in², nozzle exit area\n",
    "p_a = 14.696  # psia, ambient pressure at sea level\n",
    "g_0 = 32.174  # ft/s², gravitational acceleration at sea level\n",
    "\n",
    "# Calculations\n",
    "# Propellant mass flow rate\n",
    "m_dot = m_p / t_b  # lbm/s\n",
    "\n",
    "# Sea-level specific impulse\n",
    "I_t = F_t * t_b  # lb-s, total impulse\n",
    "I_s = I_t / m_p  # s, specific impulse at sea level\n",
    "\n",
    "# Optimum expansion calculations\n",
    "p_e = p_c / 90  # psia, exit pressure at optimum expansion\n",
    "# Convert A_e from in² to ft² for pressure term calculation\n",
    "A_e_ft2 = A_e / 144  # ft²\n",
    "F_opt = F_t - (p_e - p_a) * A_e_ft2 * 144  # lbf, thrust at optimum expansion\n",
    "I_s_opt = F_opt / (m_dot * g_0)  # s, specific impulse at optimum expansion\n",
    "\n",
    "# Altitude for optimum expansion (not calculated here, would require additional data or assumptions)\n",
    "\n",
    "# Vacuum conditions\n",
    "F_vac = F_opt + p_e * A_e_ft2 * 144  # lbf, vacuum thrust\n",
    "I_s_vac = F_vac / (m_dot * g_0)  # s, vacuum specific impulse\n",
    "\n",
    "# Display results\n",
    "print(f\"Propellant Mass Flow Rate (m_dot): {m_dot:.1f} lbm/s\")\n",
    "print(f\"Sea-Level Specific Impulse (I_s): {I_s:.1f} s\")\n",
    "print(f\"Thrust at Optimum Expansion (F_opt): {F_opt:.1f} lbf\")\n",
    "print(f\"Specific Impulse at Optimum Expansion (I_s_opt): {I_s_opt:.1f} s\")\n",
    "print(f\"Vacuum Thrust (F_vac): {F_vac:.1f} lbf\")\n",
    "print(f\"Vacuum Specific Impulse (I_s_vac): {I_s_vac:.1f} s\")"
   ]
  },
  {
   "cell_type": "code",
   "execution_count": null,
   "metadata": {},
   "outputs": [],
   "source": []
  }
 ],
 "metadata": {
  "kernelspec": {
   "display_name": "Python 3 (ipykernel)",
   "language": "python",
   "name": "python3"
  },
  "language_info": {
   "codemirror_mode": {
    "name": "ipython",
    "version": 3
   },
   "file_extension": ".py",
   "mimetype": "text/x-python",
   "name": "python",
   "nbconvert_exporter": "python",
   "pygments_lexer": "ipython3",
   "version": "3.11.9"
  }
 },
 "nbformat": 4,
 "nbformat_minor": 4
}
