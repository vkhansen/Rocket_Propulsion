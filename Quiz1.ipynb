{
 "cells": [
  {
   "cell_type": "code",
   "execution_count": 2,
   "id": "1f81416c-30b2-44a6-b349-13e26da55efe",
   "metadata": {},
   "outputs": [
    {
     "name": "stdout",
     "output_type": "stream",
     "text": [
      "Q1: The propulsive efficiency (η_p) is: 45.4%\n",
      "Q2: The total thrust (F) is: 58860 N\n",
      "Q3: The answer is b) Low molecular mass and high chamber temperature\n",
      "Q4: The propulsive efficiency (η_p) is: 50%\n",
      "Q5: The total energy content is: 3360 MJ\n",
      "Q6: Specific Impulse (I_s) is: 1274.2 s\n",
      "Q6: Effective Exhaust Velocity (c) is: 12500 m/s\n"
     ]
    }
   ],
   "source": [
    "# Import necessary libraries\n",
    "import numpy as np\n",
    "\n",
    "# Problem Q1: Propulsive Efficiency\n",
    "v_0 = 600  # speed of the aircraft, m/s\n",
    "v_e = 2500 # exhaust velocity, m/s\n",
    "\n",
    "# Calculate propulsive efficiency\n",
    "eta_p = (2 * (v_0 / v_e)) / (1 + (v_0 / v_e)**2)\n",
    "print(f\"Q1: The propulsive efficiency (η_p) is: {eta_p*100:.1f}%\")\n",
    "\n",
    "# Problem Q2: Total Thrust\n",
    "mass_propellant = 4000  # kg\n",
    "time = 200  # s\n",
    "I_s = 300  # s, specific impulse\n",
    "g_0 = 9.81  # m/s^2, standard gravity\n",
    "\n",
    "# Calculate mass flow rate and thrust\n",
    "m_dot = mass_propellant / time  # kg/s\n",
    "c = I_s * g_0  # effective exhaust velocity, m/s\n",
    "F = m_dot * c  # N\n",
    "\n",
    "print(f\"Q2: The total thrust (F) is: {F:.0f} N\")\n",
    "\n",
    "# Problem Q3: No calculation needed, conceptual understanding\n",
    "print(\"Q3: The answer is b) Low molecular mass and high chamber temperature\")\n",
    "\n",
    "# Problem Q4: Propulsive Efficiency from internal and overall efficiency\n",
    "eta_i = 0.40  # internal efficiency\n",
    "eta_o = 0.20  # overall efficiency\n",
    "\n",
    "# Calculate propulsive efficiency\n",
    "eta_p =  eta_o / eta_i\n",
    "print(f\"Q4: The propulsive efficiency (η_p) is: {eta_p*100:.0f}%\")\n",
    "\n",
    "# Problem Q5: Total Energy Content\n",
    "m_dot = 4  # kg/s\n",
    "Q_R = 7  # MJ/kg\n",
    "time = 120  # s\n",
    "\n",
    "# Calculate total energy\n",
    "E = m_dot * Q_R * time  # MJ\n",
    "print(f\"Q5: The total energy content is: {E:.0f} MJ\")\n",
    "\n",
    "# Problem Q6: Specific Impulse and Effective Exhaust Velocity\n",
    "F = 100000  # N\n",
    "m_dot = 8  # kg/s\n",
    "\n",
    "# Calculate Specific Impulse and Effective Exhaust Velocity\n",
    "I_s = F / (m_dot * g_0)  # s\n",
    "c = F / m_dot  # m/s\n",
    "\n",
    "print(f\"Q6: Specific Impulse (I_s) is: {I_s:.1f} s\")\n",
    "print(f\"Q6: Effective Exhaust Velocity (c) is: {c:.0f} m/s\")"
   ]
  },
  {
   "cell_type": "code",
   "execution_count": null,
   "id": "5cc5dcbd-edc2-4087-a593-41ab17b34a38",
   "metadata": {},
   "outputs": [],
   "source": []
  }
 ],
 "metadata": {
  "kernelspec": {
   "display_name": "Python 3 (ipykernel)",
   "language": "python",
   "name": "python3"
  },
  "language_info": {
   "codemirror_mode": {
    "name": "ipython",
    "version": 3
   },
   "file_extension": ".py",
   "mimetype": "text/x-python",
   "name": "python",
   "nbconvert_exporter": "python",
   "pygments_lexer": "ipython3",
   "version": "3.11.9"
  }
 },
 "nbformat": 4,
 "nbformat_minor": 5
}
